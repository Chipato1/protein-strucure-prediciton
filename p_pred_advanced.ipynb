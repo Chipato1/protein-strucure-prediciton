{
 "cells": [
  {
   "cell_type": "markdown",
   "id": "b011054c",
   "metadata": {},
   "source": [
    "### More Advanced Stuff\n",
    "#### Author: Carl Winkler"
   ]
  },
  {
   "cell_type": "code",
   "execution_count": 56,
   "id": "1fc58543",
   "metadata": {},
   "outputs": [],
   "source": [
    "import pandas as pd\n",
    "import itertools\n",
    "\n",
    "def parse_sequences(fileName):\n",
    "    colums_pred = ['ID','length','Sequence','Target']\n",
    "    data = []\n",
    "    \n",
    "    with open(fileName) as f:\n",
    "        lines = f.readlines() # list containing lines of file\n",
    "        i = 0\n",
    "        A_row = []\n",
    "\n",
    "        for line in lines:\n",
    "            line = line.strip()\n",
    "            elems = line.split('\\t')\n",
    "            if i == 0:\n",
    "                # ID\n",
    "                A_row.append(elems[0])\n",
    "            elif i == 1:\n",
    "                #length\n",
    "                A_row.append(int(elems[0]))\n",
    "            elif i == 2:\n",
    "                # Whole list of tokens - sequence\n",
    "                A_row.append(elems)\n",
    "            elif i == 3:\n",
    "                # Whole list of tokens - target\n",
    "                A_row.append(elems)\n",
    "                data.append(A_row) \n",
    "\n",
    "            #Logic for parsing every 4 things as a row\n",
    "            i = i + 1\n",
    "            if i > 3:\n",
    "                i = 0\n",
    "                A_row = []\n",
    "            \n",
    "    return pd.DataFrame(data, columns = colums_pred) "
   ]
  },
  {
   "cell_type": "code",
   "execution_count": 75,
   "id": "74390728",
   "metadata": {},
   "outputs": [],
   "source": [
    "def parse_triplet_frequency(filename):\n",
    "    # First we get the dataframe from the file parser\n",
    "    data_df = parse_sequences(filename)\n",
    "    \n",
    "    # We add '-' here for the borders, Meaning the '---' combination will be created which is never used\n",
    "    acid_types = ['-','A', 'C', 'D', 'E', 'F', 'G', 'H', 'K', 'L', 'M', 'N', 'P', 'Q','R', 'S', 'T', 'V', 'W', 'X', 'Y']\n",
    "    \n",
    "    # Create all possible combinations length 3\n",
    "    comb_ls = list(itertools.product(acid_types,repeat=3))\n",
    "    dict_cnt = dict((el,{\"H\": 0, \"E\": 0, \"C\": 0}) for el in comb_ls)\n",
    "    \n",
    "    data_df = data_df.reset_index()  # make sure indexes pair with number of rows\n",
    "    for index, row in data_df.iterrows():\n",
    "        seq = row['Sequence']\n",
    "        tar = row['Target']\n",
    "        \n",
    "        for idx,elem in enumerate(seq):\n",
    "            triple = ['-','','-']\n",
    "            cnt_p = tar[idx]\n",
    "\n",
    "            if idx == 0:\n",
    "                triple[1] = elem\n",
    "                triple[2] = seq[idx+1]\n",
    "\n",
    "            elif idx == len(seq)-1:\n",
    "                triple[0] = seq[idx-1]\n",
    "                triple[1] = elem\n",
    "            else:\n",
    "                triple = seq[idx-1:idx+2]\n",
    "\n",
    "            triple = tuple(triple)   \n",
    "            dict_cnt[triple][cnt_p] += 1\n",
    "            \n",
    "    return dict_cnt"
   ]
  },
  {
   "cell_type": "code",
   "execution_count": 113,
   "id": "ea4db5dd",
   "metadata": {},
   "outputs": [],
   "source": [
    "import random\n",
    "def creat_dec_dict(freq_dict, random_unkown = True):\n",
    "    acid_types = ['-','A', 'C', 'D', 'E', 'F', 'G', 'H', 'K', 'L', 'M', 'N', 'P', 'Q','R', 'S', 'T', 'V', 'W', 'X', 'Y']\n",
    "    allowed_tok = ['H','E','C']\n",
    "    \n",
    "    # Create all possible combinations length 3\n",
    "    comb_ls = list(itertools.product(acid_types,repeat=3))\n",
    "    dict_dec = dict((el,'') for el in comb_ls)\n",
    "    \n",
    "    for elem in comb_ls:\n",
    "        if freq_dict[elem]['H'] > freq_dict[elem]['E'] and freq_dict[elem]['H'] > freq_dict[elem]['C']:\n",
    "            dict_dec[elem] = 'H'\n",
    "        elif freq_dict[elem]['E'] > freq_dict[elem]['C']:\n",
    "            dict_dec[elem] = 'E'\n",
    "        elif freq_dict[elem]['C'] > freq_dict[elem]['E']:\n",
    "            dict_dec[elem] = 'C'\n",
    "        # Havent seen that combo... Or all equal -> Choose randomly\n",
    "        else:\n",
    "            if random_unkown:\n",
    "                dict_dec[elem] = random.choice(allowed_tok)\n",
    "            else:\n",
    "                dict_dec[elem] = 'C'\n",
    "                \n",
    "    return dict_dec"
   ]
  },
  {
   "cell_type": "code",
   "execution_count": 136,
   "id": "8f3f59f9",
   "metadata": {},
   "outputs": [],
   "source": [
    "# Always predicts randomly for not known\n",
    "class tripletPredict:\n",
    "    \n",
    "    def __init__(self, dict_p): \n",
    "        self.dict_p = dict_p\n",
    "        \n",
    "    def get_name(self):\n",
    "        return \"tripletPredict\"\n",
    "    \n",
    "    def predict(self, sequence):\n",
    "        prediction = []\n",
    "        \n",
    "        for idx, elem in enumerate(sequence):\n",
    "            triple = ['-','','-']\n",
    "            \n",
    "            if idx == 0:\n",
    "                triple[1] = elem\n",
    "                triple[2] = sequence[idx+1]\n",
    "\n",
    "            elif idx == len(sequence)-1:\n",
    "                triple[0] = sequence[idx-1]\n",
    "                triple[1] = elem\n",
    "            else:\n",
    "                triple = sequence[idx-1:idx+2]\n",
    "                #print(\"elem\", elem)\n",
    "                #print(\"triple\", triple)\n",
    "            triple = tuple(triple)\n",
    "            #print(\"Triple: \", triple)\n",
    "            #print(\"Prediction: \", self.dict_p[triple])\n",
    "            prediction.append(self.dict_p[triple])\n",
    "            \n",
    "        return prediction "
   ]
  },
  {
   "cell_type": "code",
   "execution_count": 137,
   "id": "928de38f",
   "metadata": {},
   "outputs": [],
   "source": [
    "def number_of_correct_pred(prediction, target_seq):\n",
    "    count = 0\n",
    "    for idx, tok in enumerate(prediction):\n",
    "        if tok == target_seq[idx]:\n",
    "            count = count + 1\n",
    "    return count\n",
    "    \n",
    "def evalute_basic_predictor(predictor, filenames):\n",
    "    for filename in filenames:\n",
    "        print(\"-------------------------------------------------\")\n",
    "        print(\"Evaluating predictior:\", predictor.get_name(), \" on: \", filename, \"\\n\")\n",
    "        \n",
    "        data_df = parse_sequences(filename)\n",
    "        \n",
    "        n_of_predicted_tokens = 0\n",
    "        n_of_correct_predictions = 0\n",
    "        \n",
    "        data_df = data_df.reset_index()\n",
    "        \n",
    "        for index, row in data_df.iterrows():\n",
    "            prediction = predictor.predict(row['Sequence'])\n",
    "          \n",
    "            n_of_predicted_tokens += len(prediction)\n",
    "            n_of_correct_predictions += number_of_correct_pred(prediction, row['Target'])\n",
    "\n",
    "        acc = n_of_correct_predictions / n_of_predicted_tokens\n",
    "        print(\"The accuracy is:\", acc, \"\\n\")"
   ]
  },
  {
   "cell_type": "code",
   "execution_count": 99,
   "id": "cbe00c20",
   "metadata": {},
   "outputs": [],
   "source": [
    "#Init Predictor\n",
    "freq_dict = parse_triplet_frequency('trainSS.txt')\n",
    "decision_dict = creat_dec_dict(freq_dict)"
   ]
  },
  {
   "cell_type": "code",
   "execution_count": 138,
   "id": "d48ba033",
   "metadata": {},
   "outputs": [
    {
     "name": "stdout",
     "output_type": "stream",
     "text": [
      "-------------------------------------------------\n",
      "Evaluating predictior: tripletPredict  on:  trainSS.txt \n",
      "\n",
      "The accuracy is: 0.5611822729793076 \n",
      "\n",
      "-------------------------------------------------\n",
      "Evaluating predictior: tripletPredict  on:  testSS.txt \n",
      "\n",
      "The accuracy is: 0.5705395776320545 \n",
      "\n"
     ]
    }
   ],
   "source": [
    "# Evaluate this approach\n",
    "predictor = tripletPredict(decision_dict)\n",
    "evalute_basic_predictor(predictor, [\"trainSS.txt\", \"testSS.txt\"])"
   ]
  },
  {
   "cell_type": "code",
   "execution_count": 140,
   "id": "a358cc47",
   "metadata": {},
   "outputs": [],
   "source": [
    "#Predict C for unknown\n",
    "freq_dict = parse_triplet_frequency('testSS.txt')\n",
    "decision_dict = creat_dec_dict(freq_dict, False)"
   ]
  },
  {
   "cell_type": "code",
   "execution_count": 141,
   "id": "e97095fd",
   "metadata": {},
   "outputs": [
    {
     "name": "stdout",
     "output_type": "stream",
     "text": [
      "-------------------------------------------------\n",
      "Evaluating predictior: tripletPredict  on:  trainSS.txt \n",
      "\n",
      "The accuracy is: 0.5611822729793076 \n",
      "\n",
      "-------------------------------------------------\n",
      "Evaluating predictior: tripletPredict  on:  testSS.txt \n",
      "\n",
      "The accuracy is: 0.5705395776320545 \n",
      "\n"
     ]
    }
   ],
   "source": [
    "predictor = tripletPredict(decision_dict)\n",
    "evalute_basic_predictor(predictor, [\"trainSS.txt\", \"testSS.txt\"])"
   ]
  },
  {
   "cell_type": "code",
   "execution_count": 147,
   "id": "87de6492",
   "metadata": {},
   "outputs": [],
   "source": [
    "#Here I evaluate the number of C's again just to be sure\n",
    "def eval_c_pred(filenames):\n",
    "    for filename in filenames:\n",
    "        print(\"-------------------------------------------------\")\n",
    "        print(\"Evaluating predictior:\", predictor.get_name(), \" on: \", filename, \"\\n\")\n",
    "        \n",
    "        data_df = parse_sequences(filename)\n",
    "        \n",
    "        total_length = 0#\n",
    "        n_of_c = 0#\n",
    "        \n",
    "        n_of_predicted_tokens = 0\n",
    "        n_of_correct_predictions = 0\n",
    "        \n",
    "        data_df = data_df.reset_index()\n",
    "        \n",
    "        for index, row in data_df.iterrows():\n",
    "            \n",
    "            total_length+= len(row['Sequence'])\n",
    "            n_of_c += row['Target'].count('C')\n",
    "\n",
    "        acc = n_of_c / total_length\n",
    "        print(\"The accuracy for all c is:\", acc, \"\\n\")"
   ]
  },
  {
   "cell_type": "code",
   "execution_count": 148,
   "id": "2da30ca2",
   "metadata": {},
   "outputs": [
    {
     "name": "stdout",
     "output_type": "stream",
     "text": [
      "-------------------------------------------------\n",
      "Evaluating predictior: tripletPredict  on:  trainSS.txt \n",
      "\n",
      "The accuracy for all c is: 0.3984553719206006 \n",
      "\n",
      "-------------------------------------------------\n",
      "Evaluating predictior: tripletPredict  on:  testSS.txt \n",
      "\n",
      "The accuracy for all c is: 0.39915113337119845 \n",
      "\n"
     ]
    }
   ],
   "source": [
    "freq_dict = eval_c_pred([\"trainSS.txt\", \"testSS.txt\"])"
   ]
  },
  {
   "cell_type": "code",
   "execution_count": null,
   "id": "dde4a0d8",
   "metadata": {},
   "outputs": [],
   "source": []
  }
 ],
 "metadata": {
  "kernelspec": {
   "display_name": "Python 3 (ipykernel)",
   "language": "python",
   "name": "python3"
  },
  "language_info": {
   "codemirror_mode": {
    "name": "ipython",
    "version": 3
   },
   "file_extension": ".py",
   "mimetype": "text/x-python",
   "name": "python",
   "nbconvert_exporter": "python",
   "pygments_lexer": "ipython3",
   "version": "3.8.10"
  }
 },
 "nbformat": 4,
 "nbformat_minor": 5
}
